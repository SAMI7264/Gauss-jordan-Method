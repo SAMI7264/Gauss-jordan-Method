{
 "cells": [
  {
   "cell_type": "code",
   "execution_count": 2,
   "metadata": {},
   "outputs": [
    {
     "name": "stdout",
     "output_type": "stream",
     "text": [
      "Enter number of unknown2\n",
      "Enter A 0 0\n",
      "3\n",
      "Enter A 0 1\n",
      "7\n",
      "Enter A 0 2\n",
      "9\n",
      "Enter A 1 0\n",
      "8\n",
      "Enter A 1 1\n",
      "5\n",
      "Enter A 1 2\n",
      "5\n",
      "[[3. 7. 9.]\n",
      " [8. 5. 5.]]\n",
      "2\n",
      "[[ 1.          0.         -0.24390244]\n",
      " [-0.          1.          1.3902439 ]]\n",
      "[[-0.24390244]\n",
      " [ 1.3902439 ]]\n"
     ]
    }
   ],
   "source": [
    "import numpy as np\n",
    "n=int(input(\"Enter number of unknown\"))\n",
    "col=[]\n",
    "for i in range(0,n):\n",
    "    row = []\n",
    "    for j in range(0,n+1):\n",
    "        print(\"Enter A\",i,j)\n",
    "        temp=float(input())\n",
    "        row.append(temp)\n",
    "    col.append(row)\n",
    "A=np.matrix(col)\n",
    "print(A)\n",
    "\n",
    "input()\n",
    "for i in range(0,n):\n",
    "    for j in range(0,n):\n",
    "        A[i,:]=A[i,:]/A[i,i]\n",
    "        if i!=j:\n",
    "            factor=A[j,i]/A[i,i]\n",
    "            for k in range(0,n+1):\n",
    "                A[j,k]=A[j,k]-factor*A[i,k]\n",
    "print(A)\n",
    "print(A[:,n])\n",
    "    "
   ]
  },
  {
   "cell_type": "markdown",
   "metadata": {},
   "source": [
    "## "
   ]
  },
  {
   "cell_type": "code",
   "execution_count": null,
   "metadata": {},
   "outputs": [],
   "source": []
  }
 ],
 "metadata": {
  "kernelspec": {
   "display_name": "Python 3",
   "language": "python",
   "name": "python3"
  },
  "language_info": {
   "codemirror_mode": {
    "name": "ipython",
    "version": 3
   },
   "file_extension": ".py",
   "mimetype": "text/x-python",
   "name": "python",
   "nbconvert_exporter": "python",
   "pygments_lexer": "ipython3",
   "version": "3.7.1"
  }
 },
 "nbformat": 4,
 "nbformat_minor": 2
}
